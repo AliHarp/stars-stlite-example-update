{
 "cells": [
  {
   "cell_type": "markdown",
   "id": "194337ae-0c98-4c3f-8b63-02042f0880ee",
   "metadata": {},
   "source": [
    "# MORE plot\n",
    "\n",
    "Implmentation of Measure of Risk and Error Plots. From Nelson 2008.\n",
    "https://ieeexplore.ieee.org/document/4736095    \n",
    "\n",
    "## Imports"
   ]
  },
  {
   "cell_type": "code",
   "execution_count": 1,
   "id": "6eb7dc0e-886d-48d1-8b54-7c0541472a2c",
   "metadata": {},
   "outputs": [],
   "source": [
    "import numpy as np\n",
    "import pandas as pd\n",
    "import warnings"
   ]
  },
  {
   "cell_type": "markdown",
   "id": "889f826e-3be5-4594-ba97-2103b1d95b33",
   "metadata": {},
   "source": [
    "## Example data used with a MORE plot.\n",
    "\n",
    "This is replication data.  Each row is a replication and each column is a KPI"
   ]
  },
  {
   "cell_type": "code",
   "execution_count": 2,
   "id": "b0b053c8-4090-4111-acca-c8b487ec7b7b",
   "metadata": {},
   "outputs": [
    {
     "data": {
      "text/html": [
       "<div>\n",
       "<style scoped>\n",
       "    .dataframe tbody tr th:only-of-type {\n",
       "        vertical-align: middle;\n",
       "    }\n",
       "\n",
       "    .dataframe tbody tr th {\n",
       "        vertical-align: top;\n",
       "    }\n",
       "\n",
       "    .dataframe thead th {\n",
       "        text-align: right;\n",
       "    }\n",
       "</style>\n",
       "<table border=\"1\" class=\"dataframe\">\n",
       "  <thead>\n",
       "    <tr style=\"text-align: right;\">\n",
       "      <th></th>\n",
       "      <th>0</th>\n",
       "      <th>1</th>\n",
       "      <th>2</th>\n",
       "      <th>3</th>\n",
       "      <th>4</th>\n",
       "    </tr>\n",
       "  </thead>\n",
       "  <tbody>\n",
       "    <tr>\n",
       "      <th>0</th>\n",
       "      <td>103.047171</td>\n",
       "      <td>89.600159</td>\n",
       "      <td>107.504512</td>\n",
       "      <td>109.405647</td>\n",
       "      <td>80.489648</td>\n",
       "    </tr>\n",
       "    <tr>\n",
       "      <th>1</th>\n",
       "      <td>86.978205</td>\n",
       "      <td>101.278404</td>\n",
       "      <td>96.837574</td>\n",
       "      <td>99.831988</td>\n",
       "      <td>91.469561</td>\n",
       "    </tr>\n",
       "    <tr>\n",
       "      <th>2</th>\n",
       "      <td>108.793980</td>\n",
       "      <td>107.777919</td>\n",
       "      <td>100.660307</td>\n",
       "      <td>111.272412</td>\n",
       "      <td>104.675093</td>\n",
       "    </tr>\n",
       "    <tr>\n",
       "      <th>3</th>\n",
       "      <td>91.407075</td>\n",
       "      <td>103.687508</td>\n",
       "      <td>90.411174</td>\n",
       "      <td>108.784503</td>\n",
       "      <td>99.500741</td>\n",
       "    </tr>\n",
       "    <tr>\n",
       "      <th>4</th>\n",
       "      <td>98.151376</td>\n",
       "      <td>93.190705</td>\n",
       "      <td>112.225413</td>\n",
       "      <td>98.454705</td>\n",
       "      <td>95.716722</td>\n",
       "    </tr>\n",
       "  </tbody>\n",
       "</table>\n",
       "</div>"
      ],
      "text/plain": [
       "            0           1           2           3           4\n",
       "0  103.047171   89.600159  107.504512  109.405647   80.489648\n",
       "1   86.978205  101.278404   96.837574   99.831988   91.469561\n",
       "2  108.793980  107.777919  100.660307  111.272412  104.675093\n",
       "3   91.407075  103.687508   90.411174  108.784503   99.500741\n",
       "4   98.151376   93.190705  112.225413   98.454705   95.716722"
      ]
     },
     "execution_count": 2,
     "metadata": {},
     "output_type": "execute_result"
    }
   ],
   "source": [
    "SEED = 42\n",
    "COUNT = 75\n",
    "\n",
    "rng = np.random.default_rng(SEED)\n",
    "results = pd.DataFrame(rng.normal(100, 10, (COUNT, 5)))\n",
    "results.head()"
   ]
  },
  {
   "cell_type": "markdown",
   "id": "2d0f9fe0-c1c8-40d5-bcd3-9b4ee9b2f821",
   "metadata": {},
   "source": [
    "## Implementation"
   ]
  },
  {
   "cell_type": "markdown",
   "id": "6a7c3923-9892-4d2b-9e83-ce095145e3ad",
   "metadata": {},
   "source": [
    "### Supporting Funcs"
   ]
  },
  {
   "cell_type": "code",
   "execution_count": 13,
   "id": "3154bee3-69e0-4f85-ab3e-32590440c87a",
   "metadata": {},
   "outputs": [],
   "source": [
    "def ci_for_sample_mean(mean_value, std, n, critical_value=1.96):\n",
    "    '''Confidence interval for mean.  Assume std is sample std.\n",
    "    \n",
    "    Notes:\n",
    "    ------\n",
    "    \n",
    "    critical value hard coded at the moment.  \n",
    "    Should update to use t dist.\n",
    "    '''\n",
    "    half_width = (critical_value * (std / np.sqrt(n)))\n",
    "    mean_lower = mean_value - half_width\n",
    "    mean_upper = mean_value + half_width\n",
    "    return mean_lower, mean_upper\n",
    "    "
   ]
  },
  {
   "cell_type": "code",
   "execution_count": 14,
   "id": "f97e817f-ba98-4163-a55a-d6f0ed0c8c0e",
   "metadata": {},
   "outputs": [],
   "source": [
    "def ci_percentile(results, field, percentile, critical_value=1.96):\n",
    "    '''Approximate confidence interval for percentile.\n",
    "    Note these may or may not be symmetric.\n",
    "    \n",
    "    Notes:\n",
    "    ------\n",
    "    \n",
    "    critical value hard coded at the moment.  \n",
    "    Should update to use t dist.\n",
    "    \n",
    "    Params:\n",
    "    ------\n",
    "    results: pd.DataFrame\n",
    "        Results dataframe - tabular data where each row is a rep and each col is a KPI\n",
    "        \n",
    "    field: int\n",
    "        Field from data frame to analyse\n",
    "        \n",
    "    percentile: float\n",
    "        The percentile around which to form the CI\n",
    "        \n",
    "    critical_value: float, optional (default = 1.96)\n",
    "        critical value of the normal dist to use.\n",
    "    '''\n",
    "    half_width = critical_value * np.sqrt((percentile * (1 - percentile)) / (len(results) - 1))\n",
    "    y_beta_1 = results[field].quantile(percentile - half_width)\n",
    "    y_beta_2 = results[field].quantile(percentile + half_width)\n",
    "    return y_beta_1, y_beta_2"
   ]
  },
  {
   "cell_type": "code",
   "execution_count": 5,
   "id": "2f39e5d1-afbb-4a78-a21d-0c5231465bb9",
   "metadata": {},
   "outputs": [],
   "source": [
    "def as_horizontal_axis_fraction(value, xmin, xmax):\n",
    "    '''Convert a axis value to a fraction accounting for the \n",
    "    minimum on the xaxis (i.e. axis may not start from 0).\n",
    "    '''\n",
    "    return (value - xmin) / (xmax - xmin)"
   ]
  },
  {
   "cell_type": "code",
   "execution_count": 6,
   "id": "38cbe087-8ba5-49d8-86de-1c6bfad07fee",
   "metadata": {},
   "outputs": [],
   "source": [
    "def draw_interval(ax, start, end, style=\"|-|\", lw=3, color='b'):\n",
    "    '''Annotate a matplotlib chart underneath x axis with an confidence interval.\n",
    "    '''\n",
    "    _ = ax.annotate('', xy=(start, -0.1), xycoords='axes fraction', \n",
    "                       xytext=(end, -0.1),\n",
    "                       arrowprops=dict(arrowstyle=style, color=color, lw=lw))"
   ]
  },
  {
   "cell_type": "markdown",
   "id": "ed180469-4684-4e04-9c08-249573781212",
   "metadata": {},
   "source": [
    "### Main"
   ]
  },
  {
   "cell_type": "code",
   "execution_count": 12,
   "id": "f0c8d660-5cf7-4e73-bd46-7ac806a0f81b",
   "metadata": {},
   "outputs": [],
   "source": [
    "def more_plot(results, field=0, bins=None, figsize=(8, 5), percentiles=(0.05, 0.95), surpress_warnings=False):\n",
    "    '''Measure of Risk and Error (MORE) plot.\n",
    "    \n",
    "    Risk illustrated via likely and unlikely ranges of replication values. \n",
    "    Erorr illustrated for CIs for mean and wide approx confidence intervals for percentiles\n",
    "        \n",
    "    Confidence intervals for percentiles will only be calculated if > 80 replications due to \n",
    "    approximation accuracy.\n",
    "    \n",
    "    Notes:\n",
    "    ------\n",
    "    Each value plotted represents the mean of a replication (e.g. daily throughput).  It should\n",
    "    not be confused with an individuals results (e.g. an individuals throughput time). \n",
    "    \n",
    "    If the system modelled contains time dependency the MORE plot may hide time of day/event effects.\n",
    "    \n",
    "    Params:\n",
    "    ------\n",
    "    results: pd.DataFrame\n",
    "        Tabular data of replications. each column is a kpi\n",
    "        \n",
    "    field: int\n",
    "        ID of column containing relevant data\n",
    "        \n",
    "    bins: int, optional (default=None)\n",
    "        no. bins to generate. None=pandas decides no.\n",
    "        \n",
    "    figsize: tuple, optional (default=(8,5))\n",
    "        size of plot\n",
    "        \n",
    "    \n",
    "    Returns:\n",
    "    -------\n",
    "    fig, ax\n",
    "    \n",
    "    Refs:\n",
    "    -----\n",
    "    \n",
    "    Nelson 2008. (Winter Simulation Paper)\n",
    "    https://ieeexplore.ieee.org/document/4736095    \n",
    "    \n",
    "    '''\n",
    "    \n",
    "    # probably will shift these to module level scope.\n",
    "    LIKELY = 'LIKELY'\n",
    "    UNLIKELY = 'UNLIKELY'\n",
    "    FONT_SIZE = 12\n",
    "    LINE_WIDTH = 3\n",
    "    LINE_STYLE = '-'\n",
    "    CRIT_VALUE = 1.96\n",
    "    UPPER_QUANTILE = percentiles[1]\n",
    "    LOWER_QUANTILE = percentiles[0]\n",
    "    INTERVAL_LW = 2\n",
    "    MIN_N_FOR_PERCENTILE = 80\n",
    "    WARN = f'CIs for percentiles are not generated as sample size < {MIN_N_FOR_PERCENTILE}.'\n",
    "    WARN += ' To supress this msg set `supress_warnings=True`'\n",
    "\n",
    "    ax = results[field].hist(bins=bins, figsize=figsize)\n",
    "    mean = results[field].mean()\n",
    "    std = results[field].std(ddof=1)\n",
    "    upper_percentile = results[field].quantile(UPPER_QUANTILE)\n",
    "    lower_percentile = results[field].quantile(LOWER_QUANTILE)\n",
    "\n",
    "    # vertical lines\n",
    "    ax.axvline(x=mean, linestyle='-', color='black', linewidth=LINE_WIDTH)\n",
    "    ax.axvline(x=upper_percentile, linestyle='-', color='red', linewidth=LINE_WIDTH)\n",
    "    ax.axvline(x=lower_percentile, linestyle='-', color='red', linewidth=LINE_WIDTH)\n",
    "\n",
    "    like_font = {'family': 'serif',\n",
    "                 'color':  'black',\n",
    "                 'weight': 'bold',\n",
    "                 'size': FONT_SIZE\n",
    "                 }\n",
    "    unlike_font = {'family': 'serif',\n",
    "                 'color':  'red',\n",
    "                 'weight': 'bold',\n",
    "                 'size': FONT_SIZE\n",
    "                 }\n",
    "\n",
    "    # add text\n",
    "    txt_offset = ax.get_ylim()[1] * 1.05\n",
    "    ax.text(mean - (mean * 0.02), txt_offset, LIKELY, fontdict=like_font)\n",
    "    ax.text(upper_percentile, txt_offset, UNLIKELY, fontdict=unlike_font)\n",
    "    ax.text(ax.get_xlim()[0], txt_offset, UNLIKELY, fontdict=unlike_font)\n",
    "\n",
    "    # calculate and display confidence intervals\n",
    "\n",
    "    ## CIs for sample mean\n",
    "    mean_lower, mean_upper = ci_for_sample_mean(mean, std, len(results))\n",
    "    \n",
    "    # Draw Confidence intervals\n",
    "    # The horizontal lines are expressed as an axis fraction i.e. between 0 and 1.  \n",
    "    # This means thatthe percentile CIs need to be converted before plotting.\n",
    "    # The function as_horizontal_axis_fraction is used.\n",
    "\n",
    "    ## mean CI  \n",
    "    hline_mean_from = as_horizontal_axis_fraction(mean_lower, ax.get_xlim()[0], ax.get_xlim()[1])\n",
    "    hline_mean_to = as_horizontal_axis_fraction(mean_upper, ax.get_xlim()[0], ax.get_xlim()[1])\n",
    "    draw_interval(ax, hline_mean_from, hline_mean_to, lw=INTERVAL_LW)\n",
    "    \n",
    "    # avoid approximation issues with small samples.  \n",
    "    if len(results) >= MIN_N_FOR_PERCENTILE:\n",
    "        ## upper percentile\n",
    "        y_beta_1, y_beta_2 = ci_percentile(results, field, UPPER_QUANTILE, critical_value=CRIT_VALUE)\n",
    "\n",
    "        ## lower percentile\n",
    "        y_beta_l_1, y_beta_l_2 = ci_percentile(results, field, LOWER_QUANTILE, critical_value=CRIT_VALUE)\n",
    "        \n",
    "        ## line for upper quantile CI\n",
    "        hline_upper_q_from = (y_beta_1 - ax.get_xlim()[0]) / (ax.get_xlim()[1] - ax.get_xlim()[0])\n",
    "        hline_upper_q_to = (y_beta_2 - ax.get_xlim()[0]) / (ax.get_xlim()[1] - ax.get_xlim()[0])\n",
    "        \n",
    "        hline_upper_q_from = as_horizontal_axis_fraction(y_beta_1, ax.get_xlim()[0], ax.get_xlim()[1])\n",
    "        hline_upper_q_to = as_horizontal_axis_fraction(y_beta_2, ax.get_xlim()[0], ax.get_xlim()[1])\n",
    "        draw_interval(ax, hline_upper_q_from, hline_upper_q_to, lw=INTERVAL_LW)\n",
    "        \n",
    "        ## line for lower quantile CI\n",
    "        hline_lower_q_from = (y_beta_l_1 - ax.get_xlim()[0]) / (ax.get_xlim()[1] - ax.get_xlim()[0])\n",
    "        hline_lower_q_to = (y_beta_l_2 - ax.get_xlim()[0]) / (ax.get_xlim()[1] - ax.get_xlim()[0])\n",
    "        \n",
    "        hline_lower_q_from = as_horizontal_axis_fraction(y_beta_l_1, ax.get_xlim()[0], ax.get_xlim()[1])\n",
    "        hline_lower_q_to = as_horizontal_axis_fraction(y_beta_l_2, ax.get_xlim()[0], ax.get_xlim()[1])\n",
    "        draw_interval(ax, hline_lower_q_from, hline_lower_q_to, lw=INTERVAL_LW)\n",
    "        \n",
    "    elif not surpress_warnings:\n",
    "        warnings.warn(WARN)\n",
    "        \n",
    "    \n",
    "    return ax.figure, ax"
   ]
  },
  {
   "cell_type": "code",
   "execution_count": 8,
   "id": "abadbb5a-8d15-4da3-8b2c-4057758e92eb",
   "metadata": {},
   "outputs": [
    {
     "data": {
      "image/png": "[encoded data removed]",
      "text/plain": [
       "<Figure size 576x360 with 1 Axes>"
      ]
     },
     "metadata": {
      "needs_background": "light"
     },
     "output_type": "display_data"
    }
   ],
   "source": [
    "# test 1\n",
    "\n",
    "SEED = 101\n",
    "COUNT = 100\n",
    "\n",
    "rng = np.random.default_rng(SEED)\n",
    "results = pd.DataFrame(rng.normal(100, 10, (COUNT, 5)))\n",
    "results.head()\n",
    "\n",
    "fig, ax = more_plot(results)"
   ]
  },
  {
   "cell_type": "code",
   "execution_count": 9,
   "id": "d1c8c0c3-97df-4cb2-bcea-9ca5e9918bbd",
   "metadata": {},
   "outputs": [
    {
     "name": "stderr",
     "output_type": "stream",
     "text": [
      "/tmp/ipykernel_502817/348222779.py:125: UserWarning: CIs for percentiles are not generated as sample size < 80. To supress this msg set `supress_warnings=True`\n",
      "  warnings.warn(WARN)\n"
     ]
    },
    {
     "data": {
      "image/png": "[encoded data removed]",
      "text/plain": [
       "<Figure size 576x360 with 1 Axes>"
      ]
     },
     "metadata": {
      "needs_background": "light"
     },
     "output_type": "display_data"
    }
   ],
   "source": [
    "# test 2: small sample (< 80), warnings not surpressed.\n",
    "\n",
    "SEED = 101\n",
    "COUNT = 79\n",
    "\n",
    "rng = np.random.default_rng(SEED)\n",
    "results = pd.DataFrame(rng.normal(100, 10, (COUNT, 5)))\n",
    "results.head()\n",
    "\n",
    "fig, ax = more_plot(results)"
   ]
  },
  {
   "cell_type": "code",
   "execution_count": 10,
   "id": "a1165b91-214b-4955-bdca-3c0128ba493f",
   "metadata": {},
   "outputs": [
    {
     "data": {
      "image/png": "[encoded data removed]",
      "text/plain": [
       "<Figure size 576x360 with 1 Axes>"
      ]
     },
     "metadata": {
      "needs_background": "light"
     },
     "output_type": "display_data"
    }
   ],
   "source": [
    "# test 3: small sample (< 80), warnings are surpressed.\n",
    "\n",
    "SEED = 101\n",
    "COUNT = 79\n",
    "\n",
    "rng = np.random.default_rng(SEED)\n",
    "results = pd.DataFrame(rng.normal(100, 10, (COUNT, 5)))\n",
    "results.head()\n",
    "\n",
    "fig, ax = more_plot(results, surpress_warnings=True)"
   ]
  },
  {
   "cell_type": "code",
   "execution_count": 11,
   "id": "52ad7da1-2046-40d2-a3cb-84e65f5fe053",
   "metadata": {},
   "outputs": [
    {
     "data": {
      "image/png": "[encoded data removed]",
      "text/plain": [
       "<Figure size 576x360 with 1 Axes>"
      ]
     },
     "metadata": {
      "needs_background": "light"
     },
     "output_type": "display_data"
    }
   ],
   "source": [
    "# save to file in normal way\n",
    "\n",
    "SEED = 101\n",
    "COUNT = 100\n",
    "\n",
    "rng = np.random.default_rng(SEED)\n",
    "results = pd.DataFrame(rng.normal(100, 10, (COUNT, 5)))\n",
    "results.head()\n",
    "\n",
    "fig, ax = more_plot(results)\n",
    "\n",
    "fig.savefig('more_plot.png', dpi=300, bbox_inches='tight')"
   ]
  }
 ],
 "metadata": {
  "kernelspec": {
   "display_name": "Python 3 (ipykernel)",
   "language": "python",
   "name": "python3"
  },
  "language_info": {
   "codemirror_mode": {
    "name": "ipython",
    "version": 3
   },
   "file_extension": ".py",
   "mimetype": "text/x-python",
   "name": "python",
   "nbconvert_exporter": "python",
   "pygments_lexer": "ipython3",
   "version": "3.8.12"
  }
 },
 "nbformat": 4,
 "nbformat_minor": 5
}
